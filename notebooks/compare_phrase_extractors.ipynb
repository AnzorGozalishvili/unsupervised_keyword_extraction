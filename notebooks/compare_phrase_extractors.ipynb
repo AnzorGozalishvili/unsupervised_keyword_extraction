{
 "cells": [
  {
   "cell_type": "markdown",
   "metadata": {},
   "source": [
    "# Imports"
   ]
  },
  {
   "cell_type": "code",
   "execution_count": 16,
   "metadata": {},
   "outputs": [],
   "source": [
    "import spacy\n",
    "import stanfordnlp\n",
    "from spacy_stanfordnlp import StanfordNLPLanguage\n",
    "from IPython.core.display import HTML\n",
    "import sys"
   ]
  },
  {
   "cell_type": "code",
   "execution_count": 5,
   "metadata": {},
   "outputs": [],
   "source": [
    "sys.path.append('../')"
   ]
  },
  {
   "cell_type": "code",
   "execution_count": 6,
   "metadata": {},
   "outputs": [],
   "source": [
    "from model.extractor import PhraseExtractor"
   ]
  },
  {
   "cell_type": "markdown",
   "metadata": {},
   "source": [
    "# Get Sample Texts (SIFRank samples)"
   ]
  },
  {
   "cell_type": "code",
   "execution_count": 10,
   "metadata": {},
   "outputs": [],
   "source": [
    "text_1 = \"NuVox shows staying power with new cash, new market Who says you can't raise cash in today's telecom market? NuVox Communications positions itself for the long run with $78.5 million in funding and a new credit facility\"\n",
    "text_2 = \"This paper deals with two questions: Does social capital determine innovation in manufacturing firms? If it is the case, to what extent? To deal with these questions, we review the literature on innovation in order to see how social capital came to be added to the other forms of capital as an explanatory variable of innovation. In doing so, we have been led to follow the dominating view of the literature on social capital and innovation which claims that social capital cannot be captured through a single indicator, but that it actually takes many different forms that must be accounted for. Therefore, to the traditional explanatory variables of innovation, we have added five forms of structural social capital (business network assets, information network assets, research network assets, participation assets, and relational assets) and one form of cognitive social capital (reciprocal trust). In a context where empirical investigations regarding the relations between social capital and innovation are still scanty, this paper makes contributions to the advancement of knowledge in providing new evidence regarding the impact and the extent of social capital on innovation at the two decisionmaking stages considered in this study\"\n"
   ]
  },
  {
   "cell_type": "markdown",
   "metadata": {},
   "source": [
    "## Download Stanford CoreNLP models (on first run)"
   ]
  },
  {
   "cell_type": "code",
   "execution_count": 11,
   "metadata": {},
   "outputs": [],
   "source": [
    "# stanfordnlp.download('en')"
   ]
  },
  {
   "cell_type": "markdown",
   "metadata": {},
   "source": [
    "# Initialize PhraseExtractor objects with different configurations"
   ]
  },
  {
   "cell_type": "code",
   "execution_count": 15,
   "metadata": {
    "scrolled": true
   },
   "outputs": [
    {
     "name": "stdout",
     "output_type": "stream",
     "text": [
      "Use device: gpu\n",
      "---\n",
      "Loading: tokenize\n",
      "With settings: \n",
      "{'model_path': '/home/ubuntu/stanfordnlp_resources/en_ewt_models/en_ewt_tokenizer.pt', 'lang': 'en', 'shorthand': 'en_ewt', 'mode': 'predict'}\n",
      "---\n",
      "Loading: pos\n",
      "With settings: \n",
      "{'model_path': '/home/ubuntu/stanfordnlp_resources/en_ewt_models/en_ewt_tagger.pt', 'pretrain_path': '/home/ubuntu/stanfordnlp_resources/en_ewt_models/en_ewt.pretrain.pt', 'lang': 'en', 'shorthand': 'en_ewt', 'mode': 'predict'}\n",
      "---\n",
      "Loading: lemma\n",
      "With settings: \n",
      "{'model_path': '/home/ubuntu/stanfordnlp_resources/en_ewt_models/en_ewt_lemmatizer.pt', 'lang': 'en', 'shorthand': 'en_ewt', 'mode': 'predict'}\n",
      "Building an attentional Seq2Seq model...\n",
      "Using a Bi-LSTM encoder\n",
      "Using soft attention for LSTM.\n",
      "Finetune all embeddings.\n",
      "[Running seq2seq lemmatizer with edit classifier]\n",
      "---\n",
      "Loading: depparse\n",
      "With settings: \n",
      "{'model_path': '/home/ubuntu/stanfordnlp_resources/en_ewt_models/en_ewt_parser.pt', 'pretrain_path': '/home/ubuntu/stanfordnlp_resources/en_ewt_models/en_ewt.pretrain.pt', 'lang': 'en', 'shorthand': 'en_ewt', 'mode': 'predict'}\n",
      "Done loading processors!\n",
      "---\n"
     ]
    },
    {
     "name": "stderr",
     "output_type": "stream",
     "text": [
      "/pytorch/aten/src/ATen/native/cuda/LegacyDefinitions.cpp:19: UserWarning: masked_fill_ received a mask with dtype torch.uint8, this behavior is now deprecated,please use a mask with dtype torch.bool instead.\n",
      "/pytorch/aten/src/ATen/native/cuda/LegacyDefinitions.cpp:19: UserWarning: masked_fill_ received a mask with dtype torch.uint8, this behavior is now deprecated,please use a mask with dtype torch.bool instead.\n"
     ]
    }
   ],
   "source": [
    "nlp = StanfordNLPLanguage(stanfordnlp.Pipeline(lang=\"en\"))\n",
    "\n",
    "# regex method\n",
    "model_1 = PhraseExtractor(nlp, text=text_1, np_rule='GRAMMAR1', method='regex')\n",
    "model_2 = PhraseExtractor(nlp, text=text_2, np_rule='GRAMMAR1', method='regex')"
   ]
  },
  {
   "cell_type": "code",
   "execution_count": 13,
   "metadata": {},
   "outputs": [],
   "source": [
    "nlp = spacy.load('en_core_web_sm')\n",
    "\n",
    "# regex method\n",
    "model_3 = PhraseExtractor(nlp, text=text_1, np_rule='GRAMMAR1', method='regex')\n",
    "model_4 = PhraseExtractor(nlp, text=text_2, np_rule='GRAMMAR1', method='regex')"
   ]
  },
  {
   "cell_type": "code",
   "execution_count": 14,
   "metadata": {},
   "outputs": [],
   "source": [
    "nlp = spacy.load('en_core_web_sm')\n",
    "# spacy method\n",
    "model_5 = PhraseExtractor(nlp, text=text_1, method='spacy')\n",
    "model_6 = PhraseExtractor(nlp, text=text_2, method='spacy')"
   ]
  },
  {
   "cell_type": "markdown",
   "metadata": {},
   "source": [
    "# Show Results in HTML format"
   ]
  },
  {
   "cell_type": "markdown",
   "metadata": {},
   "source": [
    "## TEXT 1"
   ]
  },
  {
   "cell_type": "markdown",
   "metadata": {},
   "source": [
    "### regex method (corenlp tags)"
   ]
  },
  {
   "cell_type": "code",
   "execution_count": 20,
   "metadata": {},
   "outputs": [
    {
     "data": {
      "text/html": [
       "<b style=\"background-color:rgba(0,255,0,1.0)\">nuvox</b> shows staying <b style=\"background-color:rgba(0,255,0,1.0)\">power</b> with <b style=\"background-color:rgba(0,255,0,1.0)\">new cash</b>, <b style=\"background-color:rgba(0,255,0,1.0)\">new market</b> Who says you can't raise <b style=\"background-color:rgba(0,255,0,1.0)\">cash</b> in <b style=\"background-color:rgba(0,255,0,1.0)\">today</b>'s <b style=\"background-color:rgba(0,255,0,1.0)\">telecom market</b>? <b style=\"background-color:rgba(0,255,0,1.0)\">nuvox communications positions</b> itself for the <b style=\"background-color:rgba(0,255,0,1.0)\">long run</b> with $78.5 million in <b style=\"background-color:rgba(0,255,0,1.0)\">funding</b> and a <b style=\"background-color:rgba(0,255,0,1.0)\">new credit facility</b>"
      ],
      "text/plain": [
       "<IPython.core.display.HTML object>"
      ]
     },
     "execution_count": 20,
     "metadata": {},
     "output_type": "execute_result"
    }
   ],
   "source": [
    "HTML(model_1.mark_phrases())"
   ]
  },
  {
   "cell_type": "markdown",
   "metadata": {},
   "source": [
    "### regex method (spacy tags)"
   ]
  },
  {
   "cell_type": "code",
   "execution_count": 21,
   "metadata": {},
   "outputs": [
    {
     "data": {
      "text/html": [
       "<b style=\"background-color:rgba(0,255,0,1.0)\">nuvox shows</b> staying <b style=\"background-color:rgba(0,255,0,1.0)\">power</b> with <b style=\"background-color:rgba(0,255,0,1.0)\">new cash</b>, <b style=\"background-color:rgba(0,255,0,1.0)\">new market</b> Who says you can't raise <b style=\"background-color:rgba(0,255,0,1.0)\">cash</b> in <b style=\"background-color:rgba(0,255,0,1.0)\">today</b>'s <b style=\"background-color:rgba(0,255,0,1.0)\">telecom market</b>? <b style=\"background-color:rgba(0,255,0,1.0)\">nuvox communications</b> positions itself for the <b style=\"background-color:rgba(0,255,0,1.0)\">long run</b> with $78.5 million in <b style=\"background-color:rgba(0,255,0,1.0)\">funding</b> and a <b style=\"background-color:rgba(0,255,0,1.0)\">new credit facility</b>"
      ],
      "text/plain": [
       "<IPython.core.display.HTML object>"
      ]
     },
     "execution_count": 21,
     "metadata": {},
     "output_type": "execute_result"
    }
   ],
   "source": [
    "HTML(model_3.mark_phrases())"
   ]
  },
  {
   "cell_type": "markdown",
   "metadata": {},
   "source": [
    "### spacy method (spacy tags)"
   ]
  },
  {
   "cell_type": "code",
   "execution_count": 22,
   "metadata": {},
   "outputs": [
    {
     "data": {
      "text/html": [
       "<b style=\"background-color:rgba(0,255,0,1.0)\">nuvox</b> shows staying <b style=\"background-color:rgba(0,255,0,1.0)\">power</b> with <b style=\"background-color:rgba(0,255,0,1.0)\">new cash</b>, <b style=\"background-color:rgba(0,255,0,1.0)\">new market</b> <b style=\"background-color:rgba(0,255,0,1.0)\">who</b> says <b style=\"background-color:rgba(0,255,0,1.0)\">you</b> can't raise <b style=\"background-color:rgba(0,255,0,1.0)\">cash</b> in <b style=\"background-color:rgba(0,255,0,1.0)\">today's telecom market</b>? <b style=\"background-color:rgba(0,255,0,1.0)\">nuvox communications</b> positions <b style=\"background-color:rgba(0,255,0,1.0)\">itself</b> for <b style=\"background-color:rgba(0,255,0,1.0)\">the long run</b> with $78.5 million in <b style=\"background-color:rgba(0,255,0,1.0)\">funding</b> and <b style=\"background-color:rgba(0,255,0,1.0)\">a new credit facility</b>"
      ],
      "text/plain": [
       "<IPython.core.display.HTML object>"
      ]
     },
     "execution_count": 22,
     "metadata": {},
     "output_type": "execute_result"
    }
   ],
   "source": [
    "HTML(model_5.mark_phrases())"
   ]
  },
  {
   "cell_type": "markdown",
   "metadata": {},
   "source": [
    "## TEXT 2"
   ]
  },
  {
   "cell_type": "markdown",
   "metadata": {},
   "source": [
    "### regex method (corenlp tags)"
   ]
  },
  {
   "cell_type": "code",
   "execution_count": 23,
   "metadata": {},
   "outputs": [
    {
     "data": {
      "text/html": [
       "This <b style=\"background-color:rgba(0,255,0,1.0)\">paper</b> deals with two <b style=\"background-color:rgba(0,255,0,1.0)\">questions</b>: Does <b style=\"background-color:rgba(0,255,0,1.0)\">social capital</b> determine <b style=\"background-color:rgba(0,255,0,1.0)\">innovation</b> in <b style=\"background-color:rgba(0,255,0,1.0)\">manufacturing firms</b>? If it is the <b style=\"background-color:rgba(0,255,0,1.0)\">case</b>, to what <b style=\"background-color:rgba(0,255,0,1.0)\">extent</b>? To deal with these <b style=\"background-color:rgba(0,255,0,1.0)\">questions</b>, we review the <b style=\"background-color:rgba(0,255,0,1.0)\">literature</b> on <b style=\"background-color:rgba(0,255,0,1.0)\">innovation</b> in <b style=\"background-color:rgba(0,255,0,1.0)\">order</b> to see how <b style=\"background-color:rgba(0,255,0,1.0)\">social capital</b> came to be added to the other <b style=\"background-color:rgba(0,255,0,1.0)\">forms</b> of <b style=\"background-color:rgba(0,255,0,1.0)\">capital</b> as an <b style=\"background-color:rgba(0,255,0,1.0)\">explanatory variable</b> of <b style=\"background-color:rgba(0,255,0,1.0)\">innovation</b>. In doing so, we have been led to follow the <b style=\"background-color:rgba(0,255,0,1.0)\">dominating view</b> of the <b style=\"background-color:rgba(0,255,0,1.0)\">literature</b> on <b style=\"background-color:rgba(0,255,0,1.0)\">social capital</b> and <b style=\"background-color:rgba(0,255,0,1.0)\">innovation</b> which claims that <b style=\"background-color:rgba(0,255,0,1.0)\">social capital</b> cannot be captured through a <b style=\"background-color:rgba(0,255,0,1.0)\">single indicator</b>, but that it actually takes <b style=\"background-color:rgba(0,255,0,1.0)\">many different forms</b> that must be accounted for. Therefore, to the <b style=\"background-color:rgba(0,255,0,1.0)\">traditional explanatory variables</b> of <b style=\"background-color:rgba(0,255,0,1.0)\">innovation</b>, we have added five <b style=\"background-color:rgba(0,255,0,1.0)\">forms</b> of <b style=\"background-color:rgba(0,255,0,1.0)\">structural social capital</b> (<b style=\"background-color:rgba(0,255,0,1.0)\">business network assets</b>, <b style=\"background-color:rgba(0,255,0,1.0)\">information network assets</b>, <b style=\"background-color:rgba(0,255,0,1.0)\">research network assets</b>, <b style=\"background-color:rgba(0,255,0,1.0)\">participation assets</b>, and <b style=\"background-color:rgba(0,255,0,1.0)\">relational assets</b>) and one <b style=\"background-color:rgba(0,255,0,1.0)\">form</b> of <b style=\"background-color:rgba(0,255,0,1.0)\">cognitive social capital</b> (<b style=\"background-color:rgba(0,255,0,1.0)\">reciprocal trust</b>). In a <b style=\"background-color:rgba(0,255,0,1.0)\">context</b> where <b style=\"background-color:rgba(0,255,0,1.0)\">empirical investigations</b> regarding the <b style=\"background-color:rgba(0,255,0,1.0)\">relations</b> between <b style=\"background-color:rgba(0,255,0,1.0)\">social capital</b> and <b style=\"background-color:rgba(0,255,0,1.0)\">innovation</b> are still scanty, this <b style=\"background-color:rgba(0,255,0,1.0)\">paper</b> makes <b style=\"background-color:rgba(0,255,0,1.0)\">contributions</b> to the <b style=\"background-color:rgba(0,255,0,1.0)\">advancement</b> of <b style=\"background-color:rgba(0,255,0,1.0)\">knowledge</b> in providing <b style=\"background-color:rgba(0,255,0,1.0)\">new evidence</b> regarding the <b style=\"background-color:rgba(0,255,0,1.0)\">impact</b> and the <b style=\"background-color:rgba(0,255,0,1.0)\">extent</b> of <b style=\"background-color:rgba(0,255,0,1.0)\">social capital</b> on <b style=\"background-color:rgba(0,255,0,1.0)\">innovation</b> at the two <b style=\"background-color:rgba(0,255,0,1.0)\">decisionmaking stages</b> considered in this <b style=\"background-color:rgba(0,255,0,1.0)\">study</b>"
      ],
      "text/plain": [
       "<IPython.core.display.HTML object>"
      ]
     },
     "execution_count": 23,
     "metadata": {},
     "output_type": "execute_result"
    }
   ],
   "source": [
    "HTML(model_2.mark_phrases())"
   ]
  },
  {
   "cell_type": "markdown",
   "metadata": {},
   "source": [
    "### regex method (spacy tags)"
   ]
  },
  {
   "cell_type": "code",
   "execution_count": 24,
   "metadata": {},
   "outputs": [
    {
     "data": {
      "text/html": [
       "This <b style=\"background-color:rgba(0,255,0,1.0)\">paper</b> deals with two <b style=\"background-color:rgba(0,255,0,1.0)\">questions</b>: Does <b style=\"background-color:rgba(0,255,0,1.0)\">social capital determine innovation</b> in <b style=\"background-color:rgba(0,255,0,1.0)\">manufacturing firms</b>? If it is the <b style=\"background-color:rgba(0,255,0,1.0)\">case</b>, to what <b style=\"background-color:rgba(0,255,0,1.0)\">extent</b>? To deal with these <b style=\"background-color:rgba(0,255,0,1.0)\">questions</b>, we review the <b style=\"background-color:rgba(0,255,0,1.0)\">literature</b> on <b style=\"background-color:rgba(0,255,0,1.0)\">innovation</b> in <b style=\"background-color:rgba(0,255,0,1.0)\">order</b> to see how <b style=\"background-color:rgba(0,255,0,1.0)\">social capital</b> came to be added to the other <b style=\"background-color:rgba(0,255,0,1.0)\">forms</b> of <b style=\"background-color:rgba(0,255,0,1.0)\">capital</b> as an <b style=\"background-color:rgba(0,255,0,1.0)\">explanatory variable</b> of <b style=\"background-color:rgba(0,255,0,1.0)\">innovation</b>. In doing so, we have been led to follow the <b style=\"background-color:rgba(0,255,0,1.0)\">dominating view</b> of the <b style=\"background-color:rgba(0,255,0,1.0)\">literature</b> on <b style=\"background-color:rgba(0,255,0,1.0)\">social capital</b> and <b style=\"background-color:rgba(0,255,0,1.0)\">innovation</b> which claims that <b style=\"background-color:rgba(0,255,0,1.0)\">social capital</b> cannot be captured through a <b style=\"background-color:rgba(0,255,0,1.0)\">single indicator</b>, but that it actually takes <b style=\"background-color:rgba(0,255,0,1.0)\">many different forms</b> that must be accounted for. Therefore, to the <b style=\"background-color:rgba(0,255,0,1.0)\">traditional explanatory variables</b> of <b style=\"background-color:rgba(0,255,0,1.0)\">innovation</b>, we have added five <b style=\"background-color:rgba(0,255,0,1.0)\">forms</b> of <b style=\"background-color:rgba(0,255,0,1.0)\">structural social capital</b> (<b style=\"background-color:rgba(0,255,0,1.0)\">business network assets</b>, <b style=\"background-color:rgba(0,255,0,1.0)\">information network assets</b>, <b style=\"background-color:rgba(0,255,0,1.0)\">research network assets</b>, <b style=\"background-color:rgba(0,255,0,1.0)\">participation assets</b>, and <b style=\"background-color:rgba(0,255,0,1.0)\">relational assets</b>) and one <b style=\"background-color:rgba(0,255,0,1.0)\">form</b> of <b style=\"background-color:rgba(0,255,0,1.0)\">cognitive social capital</b> (<b style=\"background-color:rgba(0,255,0,1.0)\">reciprocal trust</b>). In a <b style=\"background-color:rgba(0,255,0,1.0)\">context</b> where <b style=\"background-color:rgba(0,255,0,1.0)\">empirical investigations</b> regarding the <b style=\"background-color:rgba(0,255,0,1.0)\">relations</b> between <b style=\"background-color:rgba(0,255,0,1.0)\">social capital</b> and <b style=\"background-color:rgba(0,255,0,1.0)\">innovation</b> are still <b style=\"background-color:rgba(0,255,0,1.0)\">scanty</b>, this <b style=\"background-color:rgba(0,255,0,1.0)\">paper</b> makes <b style=\"background-color:rgba(0,255,0,1.0)\">contributions</b> to the <b style=\"background-color:rgba(0,255,0,1.0)\">advancement</b> of <b style=\"background-color:rgba(0,255,0,1.0)\">knowledge</b> in providing <b style=\"background-color:rgba(0,255,0,1.0)\">new evidence</b> regarding the <b style=\"background-color:rgba(0,255,0,1.0)\">impact</b> and the <b style=\"background-color:rgba(0,255,0,1.0)\">extent</b> of <b style=\"background-color:rgba(0,255,0,1.0)\">social capital</b> on <b style=\"background-color:rgba(0,255,0,1.0)\">innovation</b> at the two decisionmaking <b style=\"background-color:rgba(0,255,0,1.0)\">stages</b> considered in this <b style=\"background-color:rgba(0,255,0,1.0)\">study</b>"
      ],
      "text/plain": [
       "<IPython.core.display.HTML object>"
      ]
     },
     "execution_count": 24,
     "metadata": {},
     "output_type": "execute_result"
    }
   ],
   "source": [
    "HTML(model_4.mark_phrases())"
   ]
  },
  {
   "cell_type": "markdown",
   "metadata": {},
   "source": [
    "### spacy method (spacy tags)"
   ]
  },
  {
   "cell_type": "code",
   "execution_count": 25,
   "metadata": {},
   "outputs": [
    {
     "data": {
      "text/html": [
       "This paper deals with <b style=\"background-color:rgba(0,255,0,1.0)\">two questions</b>: Does <b style=\"background-color:rgba(0,255,0,1.0)\">social capital</b> determine <b style=\"background-color:rgba(0,255,0,1.0)\">innovation</b> in <b style=\"background-color:rgba(0,255,0,1.0)\">manufacturing firms</b>? If <b style=\"background-color:rgba(0,255,0,1.0)\">it</b> is <b style=\"background-color:rgba(0,255,0,1.0)\">the case</b>, to <b style=\"background-color:rgba(0,255,0,1.0)\">what extent</b>? To deal with <b style=\"background-color:rgba(0,255,0,1.0)\">these questions</b>, <b style=\"background-color:rgba(0,255,0,1.0)\">we</b> review <b style=\"background-color:rgba(0,255,0,1.0)\">the literature</b> on <b style=\"background-color:rgba(0,255,0,1.0)\">innovation</b> in <b style=\"background-color:rgba(0,255,0,1.0)\">order</b> to see how <b style=\"background-color:rgba(0,255,0,1.0)\">social capital</b> came to be added to <b style=\"background-color:rgba(0,255,0,1.0)\">the other forms</b> of <b style=\"background-color:rgba(0,255,0,1.0)\">capital</b> as <b style=\"background-color:rgba(0,255,0,1.0)\">an explanatory variable</b> of <b style=\"background-color:rgba(0,255,0,1.0)\">innovation</b>. In doing so, <b style=\"background-color:rgba(0,255,0,1.0)\">we</b> have been led to follow <b style=\"background-color:rgba(0,255,0,1.0)\">the dominating view</b> of <b style=\"background-color:rgba(0,255,0,1.0)\">the literature</b> on <b style=\"background-color:rgba(0,255,0,1.0)\">social capital</b> and <b style=\"background-color:rgba(0,255,0,1.0)\">innovation</b> which claims that <b style=\"background-color:rgba(0,255,0,1.0)\">social capital</b> cannot be captured through <b style=\"background-color:rgba(0,255,0,1.0)\">a single indicator</b>, but that <b style=\"background-color:rgba(0,255,0,1.0)\">it</b> actually takes <b style=\"background-color:rgba(0,255,0,1.0)\">many different forms</b> that must be accounted for. Therefore, to <b style=\"background-color:rgba(0,255,0,1.0)\">the traditional explanatory variables</b> of <b style=\"background-color:rgba(0,255,0,1.0)\">innovation</b>, <b style=\"background-color:rgba(0,255,0,1.0)\">we</b> have added <b style=\"background-color:rgba(0,255,0,1.0)\">five forms</b> of <b style=\"background-color:rgba(0,255,0,1.0)\">structural social capital</b> (<b style=\"background-color:rgba(0,255,0,1.0)\">business network assets</b>, <b style=\"background-color:rgba(0,255,0,1.0)\">information network assets</b>, <b style=\"background-color:rgba(0,255,0,1.0)\">research network assets</b>, <b style=\"background-color:rgba(0,255,0,1.0)\">participation assets</b>, and <b style=\"background-color:rgba(0,255,0,1.0)\">relational assets</b>) and <b style=\"background-color:rgba(0,255,0,1.0)\">one form</b> of <b style=\"background-color:rgba(0,255,0,1.0)\">cognitive social capital</b> (<b style=\"background-color:rgba(0,255,0,1.0)\">reciprocal trust</b>). In <b style=\"background-color:rgba(0,255,0,1.0)\">a context</b> where <b style=\"background-color:rgba(0,255,0,1.0)\">empirical investigations</b> regarding <b style=\"background-color:rgba(0,255,0,1.0)\">the relations</b> between <b style=\"background-color:rgba(0,255,0,1.0)\">social capital</b> and <b style=\"background-color:rgba(0,255,0,1.0)\">innovation</b> are still scanty, <b style=\"background-color:rgba(0,255,0,1.0)\">this paper</b> makes <b style=\"background-color:rgba(0,255,0,1.0)\">contributions</b> to <b style=\"background-color:rgba(0,255,0,1.0)\">the advancement</b> of <b style=\"background-color:rgba(0,255,0,1.0)\">knowledge</b> in providing <b style=\"background-color:rgba(0,255,0,1.0)\">new evidence</b> regarding <b style=\"background-color:rgba(0,255,0,1.0)\">the impact</b> and <b style=\"background-color:rgba(0,255,0,1.0)\">the extent</b> of <b style=\"background-color:rgba(0,255,0,1.0)\">social capital</b> on <b style=\"background-color:rgba(0,255,0,1.0)\">innovation</b> at <b style=\"background-color:rgba(0,255,0,1.0)\">the two decisionmaking stages</b> considered in <b style=\"background-color:rgba(0,255,0,1.0)\">this study</b>"
      ],
      "text/plain": [
       "<IPython.core.display.HTML object>"
      ]
     },
     "execution_count": 25,
     "metadata": {},
     "output_type": "execute_result"
    }
   ],
   "source": [
    "HTML(model_6.mark_phrases())"
   ]
  }
 ],
 "metadata": {
  "kernelspec": {
   "display_name": "Environment (conda_ke)",
   "language": "python",
   "name": "conda_ke"
  },
  "language_info": {
   "codemirror_mode": {
    "name": "ipython",
    "version": 3
   },
   "file_extension": ".py",
   "mimetype": "text/x-python",
   "name": "python",
   "nbconvert_exporter": "python",
   "pygments_lexer": "ipython3",
   "version": "3.7.6"
  }
 },
 "nbformat": 4,
 "nbformat_minor": 2
}
