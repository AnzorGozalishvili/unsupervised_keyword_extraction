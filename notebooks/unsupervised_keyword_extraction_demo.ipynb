{
 "cells": [
  {
   "cell_type": "markdown",
   "metadata": {},
   "source": [
    "# Imports"
   ]
  },
  {
   "cell_type": "code",
   "execution_count": 1,
   "metadata": {},
   "outputs": [],
   "source": [
    "import pandas as pd\n",
    "import os\n",
    "import sys\n",
    "from IPython.core.display import HTML"
   ]
  },
  {
   "cell_type": "code",
   "execution_count": 2,
   "metadata": {},
   "outputs": [],
   "source": [
    "sys.path.append('../')"
   ]
  },
  {
   "cell_type": "code",
   "execution_count": 3,
   "metadata": {},
   "outputs": [],
   "source": [
    "import spacy\n",
    "from bert_serving.client import BertClient\n",
    "from keyword_extraction import UnsupervisedKeywordExtraction"
   ]
  },
  {
   "cell_type": "markdown",
   "metadata": {},
   "source": [
    "# Read Sample"
   ]
  },
  {
   "cell_type": "code",
   "execution_count": 4,
   "metadata": {},
   "outputs": [],
   "source": [
    "def read_text(dataset, _id):\n",
    "    with open(f'../data/{dataset}/docsutf8/{_id}.txt', 'r') as file:\n",
    "        return file.read()"
   ]
  },
  {
   "cell_type": "code",
   "execution_count": 5,
   "metadata": {},
   "outputs": [],
   "source": [
    "def read_keys(dataset, _id):\n",
    "    with open(f'../data/{dataset}/keys/{_id}.key', 'r') as file:\n",
    "        return file.read()"
   ]
  },
  {
   "cell_type": "code",
   "execution_count": 6,
   "metadata": {},
   "outputs": [],
   "source": [
    "dataset = 'Inspec'"
   ]
  },
  {
   "cell_type": "code",
   "execution_count": 7,
   "metadata": {},
   "outputs": [],
   "source": [
    "sample_id = '1100'"
   ]
  },
  {
   "cell_type": "markdown",
   "metadata": {},
   "source": [
    "### text"
   ]
  },
  {
   "cell_type": "code",
   "execution_count": 8,
   "metadata": {},
   "outputs": [
    {
     "data": {
      "text/plain": [
       "'Evaluation of existing and new feature recognition algorithms. 2. Experimental\\n\\tresults\\nFor pt.1 see ibid., p.839-851. This is the second of two papers investigating\\n\\tthe performance of general-purpose feature detection techniques. The\\n\\tfirst paper describes the development of a methodology to synthesize\\n\\tpossible general feature detection face sets. Six algorithms resulting\\n\\tfrom the synthesis have been designed and implemented on a SUN\\n\\tWorkstation in C++ using ACIS as the geometric modelling system. In\\n\\tthis paper, extensive tests and comparative analysis are conducted on\\n\\tthe feature detection algorithms, using carefully selected components\\n\\tfrom the public domain, mostly from the National Design Repository. The\\n\\tresults show that the new and enhanced algorithms identify face sets\\n\\tthat previously published algorithms cannot detect. The tests also show\\n\\tthat each algorithm can detect, among other types, a certain type of\\n\\tfeature that is unique to it. Hence, most of the algorithms discussed\\n\\tin this paper would have to be combined to obtain complete coverage\\n'"
      ]
     },
     "execution_count": 8,
     "metadata": {},
     "output_type": "execute_result"
    }
   ],
   "source": [
    "text = read_text(dataset, sample_id); text"
   ]
  },
  {
   "cell_type": "markdown",
   "metadata": {},
   "source": [
    "### keys"
   ]
  },
  {
   "cell_type": "code",
   "execution_count": 9,
   "metadata": {},
   "outputs": [
    {
     "data": {
      "text/plain": [
       "['feature recognition algorithms',\n",
       " 'general-purpose feature detection techniques',\n",
       " '\\tNational Design Repository',\n",
       " 'face sets',\n",
       " 'convex hull',\n",
       " 'concavity',\n",
       " 'feature extraction',\n",
       " 'mechanical engineering']"
      ]
     },
     "execution_count": 9,
     "metadata": {},
     "output_type": "execute_result"
    }
   ],
   "source": [
    "keys = read_keys(dataset, sample_id).strip().split('\\n'); keys"
   ]
  },
  {
   "cell_type": "markdown",
   "metadata": {},
   "source": [
    "# Extract Keywords"
   ]
  },
  {
   "cell_type": "markdown",
   "metadata": {},
   "source": [
    "## Load NLP spaCy model and BERT encoder "
   ]
  },
  {
   "cell_type": "code",
   "execution_count": 10,
   "metadata": {},
   "outputs": [],
   "source": [
    "bc = BertClient(output_fmt='list')\n",
    "nlp = spacy.load(\"en_core_web_lg\", disable=['ner'])"
   ]
  },
  {
   "cell_type": "markdown",
   "metadata": {},
   "source": [
    "## Embedding method: naive"
   ]
  },
  {
   "cell_type": "code",
   "execution_count": 11,
   "metadata": {},
   "outputs": [],
   "source": [
    "fi = UnsupervisedKeywordExtraction(nlp=nlp,\n",
    "                                   dnn=bc,\n",
    "                                   emb_method='naive',\n",
    "                                   mmr_beta=0.5,\n",
    "                                   top_n=10,\n",
    "                                   alias_threshold=0.8)"
   ]
  },
  {
   "cell_type": "code",
   "execution_count": 12,
   "metadata": {},
   "outputs": [
    {
     "name": "stderr",
     "output_type": "stream",
     "text": [
      "/Users/anz2/anaconda3/envs/case_law/lib/python3.7/site-packages/bert_serving/client/__init__.py:290: UserWarning: server does not put a restriction on \"max_seq_len\", it will determine \"max_seq_len\" dynamically according to the sequences in the batch. you can restrict the sequence length on the client side for better efficiency\n",
      "  warnings.warn('server does not put a restriction on \"max_seq_len\", '\n"
     ]
    }
   ],
   "source": [
    "marked_target, keywords, keyword_relevance = fi.fit(text)"
   ]
  },
  {
   "cell_type": "code",
   "execution_count": 13,
   "metadata": {},
   "outputs": [
    {
     "data": {
      "text/html": [
       "Evaluation of <b style=\"background-color:rgba(0,255,0,0.9989953331181924)\">existing and new feature recognition algorithms</b>. 2. <b style=\"background-color:rgba(0,255,0,0.9296324017224857)\">Experimental\n",
       "\tresults</b>\n",
       "For <b style=\"background-color:rgba(0,255,0,0.9105035056963096)\">pt.1</b> see ibid., p.839-851. This is the second of two papers investigating\n",
       "\tthe performance of <b style=\"background-color:rgba(0,255,0,0.9972474119155336)\">general-purpose feature detection techniques</b>. <b style=\"background-color:rgba(0,255,0,0.9514043794282492)\">The\n",
       "\tfirst paper</b> describes the development of a methodology to synthesize\n",
       "\tpossible general feature detection face sets. Six algorithms resulting\n",
       "\tfrom the synthesis have been designed and implemented on a SUN\n",
       "\tWorkstation in C++ using ACIS as <b style=\"background-color:rgba(0,255,0,0.9835447027914311)\">the geometric modelling system</b>. In\n",
       "\tthis paper, extensive tests and comparative analysis are conducted on\n",
       "\t<b style=\"background-color:rgba(0,255,0,1.0)\">the feature detection algorithms</b>, using <b style=\"background-color:rgba(0,255,0,0.9484435766211964)\">carefully selected components</b>\n",
       "\tfrom the public domain, mostly from <b style=\"background-color:rgba(0,255,0,0.972619561391401)\">the National Design Repository</b>. The\n",
       "\tresults show that <b style=\"background-color:rgba(0,255,0,0.9808807225904848)\">the new and enhanced algorithms</b> identify face sets\n",
       "\tthat previously published algorithms cannot detect. The tests also show\n",
       "\tthat each algorithm can detect, among other types, a certain type of\n",
       "\tfeature that is unique to it. Hence, most of the algorithms discussed\n",
       "\tin this paper would have to be combined to obtain complete coverage\n"
      ],
      "text/plain": [
       "<IPython.core.display.HTML object>"
      ]
     },
     "execution_count": 13,
     "metadata": {},
     "output_type": "execute_result"
    }
   ],
   "source": [
    "HTML(marked_target)"
   ]
  },
  {
   "cell_type": "code",
   "execution_count": 14,
   "metadata": {
    "scrolled": true
   },
   "outputs": [
    {
     "data": {
      "text/plain": [
       "([('existing and new feature recognition algorithms', 14, 61),\n",
       "  ('Experimental\\n\\tresults', 66, 87),\n",
       "  ('pt.1', 92, 96),\n",
       "  ('general-purpose feature detection techniques', 186, 230),\n",
       "  ('The\\n\\tfirst paper', 232, 248),\n",
       "  ('the geometric modelling system', 476, 506),\n",
       "  ('the feature detection algorithms', 583, 615),\n",
       "  ('carefully selected components', 623, 652),\n",
       "  ('the National Design Repository', 690, 720),\n",
       "  ('the new and enhanced algorithms', 745, 776)],\n",
       " [0.9989953331181924,\n",
       "  0.9296324017224857,\n",
       "  0.9105035056963096,\n",
       "  0.9972474119155336,\n",
       "  0.9514043794282492,\n",
       "  0.9835447027914311,\n",
       "  1.0,\n",
       "  0.9484435766211964,\n",
       "  0.972619561391401,\n",
       "  0.9808807225904848])"
      ]
     },
     "execution_count": 14,
     "metadata": {},
     "output_type": "execute_result"
    }
   ],
   "source": [
    "keywords, keyword_relevance"
   ]
  },
  {
   "cell_type": "markdown",
   "metadata": {},
   "source": [
    "## Perturbation: Removal & embedding method: subtraction"
   ]
  },
  {
   "cell_type": "code",
   "execution_count": 15,
   "metadata": {},
   "outputs": [],
   "source": [
    "fi = UnsupervisedKeywordExtraction(nlp=nlp,\n",
    "                                   dnn=bc,\n",
    "                                   perturbation='removal',\n",
    "                                   emb_method='subtraction',\n",
    "                                   mmr_beta=0.5,\n",
    "                                   top_n=10,\n",
    "                                   alias_threshold=0.8)"
   ]
  },
  {
   "cell_type": "code",
   "execution_count": 16,
   "metadata": {},
   "outputs": [
    {
     "name": "stderr",
     "output_type": "stream",
     "text": [
      "/Users/anz2/anaconda3/envs/case_law/lib/python3.7/site-packages/bert_serving/client/__init__.py:290: UserWarning: server does not put a restriction on \"max_seq_len\", it will determine \"max_seq_len\" dynamically according to the sequences in the batch. you can restrict the sequence length on the client side for better efficiency\n",
      "  warnings.warn('server does not put a restriction on \"max_seq_len\", '\n"
     ]
    }
   ],
   "source": [
    "marked_target, keywords, keyword_relevance = fi.fit(text)"
   ]
  },
  {
   "cell_type": "code",
   "execution_count": 17,
   "metadata": {},
   "outputs": [
    {
     "data": {
      "text/html": [
       "Evaluation of existing and new feature recognition algorithms. 2. Experimental\n",
       "\tresults\n",
       "For <b style=\"background-color:rgba(255,0,0,-0.3685317406253594)\">pt.1</b> see ibid., p.839-851. This is the second of two papers investigating\n",
       "\tthe performance of general-purpose feature detection techniques. The\n",
       "\tfirst paper describes the development of a methodology to synthesize\n",
       "\tpossible general feature detection face sets. Six algorithms resulting\n",
       "\tfrom <b style=\"background-color:rgba(0,255,0,0.3528443669230563)\">the synthesis</b> have been designed and implemented on <b style=\"background-color:rgba(0,255,0,0.388833519386724)\">a SUN\n",
       "\tWorkstation</b> in C++ using ACIS as <b style=\"background-color:rgba(0,255,0,0.5459045478592817)\">the geometric modelling system</b>. In\n",
       "\t<b style=\"background-color:rgba(0,255,0,1.0)\">this paper</b>, extensive tests and comparative analysis are conducted on\n",
       "\t<b style=\"background-color:rgba(0,255,0,0.4716227386880885)\">the feature detection algorithms</b>, using carefully selected components\n",
       "\tfrom <b style=\"background-color:rgba(0,255,0,0.1749551698341253)\">the public domain</b>, mostly from the National Design Repository. The\n",
       "\tresults show that the new and enhanced algorithms identify face sets\n",
       "\tthat <b style=\"background-color:rgba(255,0,0,-0.014784138612829277)\">previously published algorithms</b> cannot detect. <b style=\"background-color:rgba(0,255,0,0.4964478243838283)\">The tests</b> also show\n",
       "\tthat each algorithm can detect, among other types, a certain type of\n",
       "\tfeature that is unique to it. Hence, most of the algorithms discussed\n",
       "\tin this paper would have to be combined to obtain <b style=\"background-color:rgba(255,0,0,-0.5888127412154336)\">complete coverage</b>\n"
      ],
      "text/plain": [
       "<IPython.core.display.HTML object>"
      ]
     },
     "execution_count": 17,
     "metadata": {},
     "output_type": "execute_result"
    }
   ],
   "source": [
    "HTML(marked_target)"
   ]
  },
  {
   "cell_type": "code",
   "execution_count": 18,
   "metadata": {},
   "outputs": [
    {
     "data": {
      "text/plain": [
       "([('pt.1', 92, 96),\n",
       "  ('the synthesis', 384, 397),\n",
       "  ('a SUN\\n\\tWorkstation', 436, 454),\n",
       "  ('the geometric modelling system', 476, 506),\n",
       "  ('this paper', 512, 522),\n",
       "  ('the feature detection algorithms', 583, 615),\n",
       "  ('the public domain', 659, 676),\n",
       "  ('previously published algorithms', 802, 833),\n",
       "  ('The tests', 849, 858),\n",
       "  ('complete coverage', 1061, 1078)],\n",
       " [-0.3685317406253594,\n",
       "  0.3528443669230563,\n",
       "  0.388833519386724,\n",
       "  0.5459045478592817,\n",
       "  1.0,\n",
       "  0.4716227386880885,\n",
       "  0.1749551698341253,\n",
       "  -0.014784138612829277,\n",
       "  0.4964478243838283,\n",
       "  -0.5888127412154336])"
      ]
     },
     "execution_count": 18,
     "metadata": {},
     "output_type": "execute_result"
    }
   ],
   "source": [
    "keywords, keyword_relevance"
   ]
  },
  {
   "cell_type": "markdown",
   "metadata": {},
   "source": [
    "## Perturbation: Replacement & Embedding method: subtraction"
   ]
  },
  {
   "cell_type": "code",
   "execution_count": 23,
   "metadata": {},
   "outputs": [],
   "source": [
    "fi = UnsupervisedKeywordExtraction(nlp=nlp,\n",
    "                                   dnn=bc,\n",
    "                                   perturbation='replacement',\n",
    "                                   emb_method='subtraction',\n",
    "                                   mmr_beta=0.5,\n",
    "                                   top_n=10,\n",
    "                                   alias_threshold=0.8)"
   ]
  },
  {
   "cell_type": "code",
   "execution_count": 24,
   "metadata": {},
   "outputs": [
    {
     "name": "stderr",
     "output_type": "stream",
     "text": [
      "/Users/anz2/anaconda3/envs/case_law/lib/python3.7/site-packages/bert_serving/client/__init__.py:290: UserWarning: server does not put a restriction on \"max_seq_len\", it will determine \"max_seq_len\" dynamically according to the sequences in the batch. you can restrict the sequence length on the client side for better efficiency\n",
      "  warnings.warn('server does not put a restriction on \"max_seq_len\", '\n"
     ]
    }
   ],
   "source": [
    "marked_target, keywords, keyword_relevance = fi.fit(text)"
   ]
  },
  {
   "cell_type": "code",
   "execution_count": 25,
   "metadata": {},
   "outputs": [
    {
     "data": {
      "text/html": [
       "Evaluation of existing and new feature recognition algorithms. 2. Experimental\n",
       "\tresults\n",
       "For <b style=\"background-color:rgba(255,0,0,-0.14057790849116003)\">pt.1</b> see ibid., p.839-851. This is the second of two papers investigating\n",
       "\tthe performance of general-purpose feature detection techniques. The\n",
       "\tfirst paper describes <b style=\"background-color:rgba(0,255,0,0.11232283028643997)\">the development</b> of a methodology to synthesize\n",
       "\tpossible general feature detection face sets. Six algorithms resulting\n",
       "\tfrom the synthesis have been designed and implemented on <b style=\"background-color:rgba(0,255,0,0.4851078527700543)\">a SUN\n",
       "\tWorkstation</b> in C++ using ACIS as the geometric modelling system. In\n",
       "\t<b style=\"background-color:rgba(255,0,0,-0.05361408231167253)\">this paper</b>, extensive tests and comparative analysis are conducted on\n",
       "\t<b style=\"background-color:rgba(0,255,0,0.830364179989764)\">the feature detection algorithms</b>, using carefully selected components\n",
       "\tfrom <b style=\"background-color:rgba(0,255,0,0.3967779564285788)\">the public domain</b>, mostly from the National Design Repository. <b style=\"background-color:rgba(0,255,0,0.22571965357085863)\">The\n",
       "\tresults</b> show that the new and enhanced algorithms identify face sets\n",
       "\tthat <b style=\"background-color:rgba(0,255,0,0.27025812603095717)\">previously published algorithms</b> cannot detect. The tests also show\n",
       "\tthat each algorithm can detect, among other types, <b style=\"background-color:rgba(255,0,0,-0.07893360220223258)\">a certain type</b> of\n",
       "\tfeature that is unique to it. Hence, most of <b style=\"background-color:rgba(0,255,0,1.0)\">the algorithms</b> discussed\n",
       "\tin this paper would have to be combined to obtain complete coverage\n"
      ],
      "text/plain": [
       "<IPython.core.display.HTML object>"
      ]
     },
     "execution_count": 25,
     "metadata": {},
     "output_type": "execute_result"
    }
   ],
   "source": [
    "HTML(marked_target)"
   ]
  },
  {
   "cell_type": "code",
   "execution_count": 26,
   "metadata": {},
   "outputs": [
    {
     "data": {
      "text/plain": [
       "([('pt.1', 92, 96),\n",
       "  ('the development', 259, 274),\n",
       "  ('a SUN\\n\\tWorkstation', 436, 454),\n",
       "  ('this paper', 512, 522),\n",
       "  ('the feature detection algorithms', 583, 615),\n",
       "  ('the public domain', 659, 676),\n",
       "  ('The\\n\\tresults', 722, 734),\n",
       "  ('previously published algorithms', 802, 833),\n",
       "  ('a certain type', 921, 935),\n",
       "  ('the algorithms', 985, 999)],\n",
       " [-0.14057790849116003,\n",
       "  0.11232283028643997,\n",
       "  0.4851078527700543,\n",
       "  -0.05361408231167253,\n",
       "  0.830364179989764,\n",
       "  0.3967779564285788,\n",
       "  0.22571965357085863,\n",
       "  0.27025812603095717,\n",
       "  -0.07893360220223258,\n",
       "  1.0])"
      ]
     },
     "execution_count": 26,
     "metadata": {},
     "output_type": "execute_result"
    }
   ],
   "source": [
    "keywords, keyword_relevance"
   ]
  }
 ],
 "metadata": {
  "kernelspec": {
   "display_name": "Python [conda env:case_law]",
   "language": "python",
   "name": "conda-env-case_law-py"
  },
  "language_info": {
   "codemirror_mode": {
    "name": "ipython",
    "version": 3
   },
   "file_extension": ".py",
   "mimetype": "text/x-python",
   "name": "python",
   "nbconvert_exporter": "python",
   "pygments_lexer": "ipython3",
   "version": "3.7.6"
  },
  "toc": {
   "base_numbering": 1,
   "nav_menu": {},
   "number_sections": true,
   "sideBar": true,
   "skip_h1_title": false,
   "title_cell": "Table of Contents",
   "title_sidebar": "Contents",
   "toc_cell": false,
   "toc_position": {},
   "toc_section_display": true,
   "toc_window_display": false
  },
  "varInspector": {
   "cols": {
    "lenName": 16,
    "lenType": 16,
    "lenVar": 40
   },
   "kernels_config": {
    "python": {
     "delete_cmd_postfix": "",
     "delete_cmd_prefix": "del ",
     "library": "var_list.py",
     "varRefreshCmd": "print(var_dic_list())"
    },
    "r": {
     "delete_cmd_postfix": ") ",
     "delete_cmd_prefix": "rm(",
     "library": "var_list.r",
     "varRefreshCmd": "cat(var_dic_list()) "
    }
   },
   "types_to_exclude": [
    "module",
    "function",
    "builtin_function_or_method",
    "instance",
    "_Feature"
   ],
   "window_display": false
  }
 },
 "nbformat": 4,
 "nbformat_minor": 4
}
