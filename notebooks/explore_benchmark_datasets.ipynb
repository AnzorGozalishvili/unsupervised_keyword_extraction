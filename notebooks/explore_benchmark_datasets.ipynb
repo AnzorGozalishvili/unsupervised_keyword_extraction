{
 "cells": [
  {
   "cell_type": "markdown",
   "metadata": {},
   "source": [
    "# Imports"
   ]
  },
  {
   "cell_type": "code",
   "execution_count": 1,
   "metadata": {},
   "outputs": [],
   "source": [
    "import pandas as pd\n",
    "import os\n",
    "import sys\n",
    "import spacy"
   ]
  },
  {
   "cell_type": "markdown",
   "metadata": {},
   "source": [
    "# List Datasets"
   ]
  },
  {
   "cell_type": "code",
   "execution_count": 4,
   "metadata": {},
   "outputs": [
    {
     "name": "stdout",
     "output_type": "stream",
     "text": [
      "\u001b[34mInspec\u001b[m\u001b[m      \u001b[34mSemEval2017\u001b[m\u001b[m\r\n"
     ]
    }
   ],
   "source": [
    "!ls ../data"
   ]
  },
  {
   "cell_type": "markdown",
   "metadata": {},
   "source": [
    "# List Dataset Directories"
   ]
  },
  {
   "cell_type": "code",
   "execution_count": 12,
   "metadata": {},
   "outputs": [
    {
     "name": "stdout",
     "output_type": "stream",
     "text": [
      "\u001b[34mdocsutf8\u001b[m\u001b[m     \u001b[34mkeys\u001b[m\u001b[m         lan.txt      language.txt\r\n"
     ]
    }
   ],
   "source": [
    "!ls ../data/Inspec/"
   ]
  },
  {
   "cell_type": "code",
   "execution_count": 16,
   "metadata": {},
   "outputs": [
    {
     "name": "stdout",
     "output_type": "stream",
     "text": [
      "en-US\r\n"
     ]
    }
   ],
   "source": [
    "!cat ../data/Inspec/lan.txt"
   ]
  },
  {
   "cell_type": "code",
   "execution_count": 17,
   "metadata": {},
   "outputs": [
    {
     "name": "stdout",
     "output_type": "stream",
     "text": [
      "english\r\n"
     ]
    }
   ],
   "source": [
    "!cat ../data/Inspec/language.txt"
   ]
  },
  {
   "cell_type": "markdown",
   "metadata": {},
   "source": [
    "# Read Sample Text"
   ]
  },
  {
   "cell_type": "code",
   "execution_count": 13,
   "metadata": {},
   "outputs": [
    {
     "name": "stdout",
     "output_type": "stream",
     "text": [
      "Evaluation of existing and new feature recognition algorithms. 2. Experimental\r\n",
      "\tresults\r",
      "\r\n",
      "For pt.1 see ibid., p.839-851. This is the second of two papers investigating\r\n",
      "\tthe performance of general-purpose feature detection techniques. The\r\n",
      "\tfirst paper describes the development of a methodology to synthesize\r\n",
      "\tpossible general feature detection face sets. Six algorithms resulting\r\n",
      "\tfrom the synthesis have been designed and implemented on a SUN\r\n",
      "\tWorkstation in C++ using ACIS as the geometric modelling system. In\r\n",
      "\tthis paper, extensive tests and comparative analysis are conducted on\r\n",
      "\tthe feature detection algorithms, using carefully selected components\r\n",
      "\tfrom the public domain, mostly from the National Design Repository. The\r\n",
      "\tresults show that the new and enhanced algorithms identify face sets\r\n",
      "\tthat previously published algorithms cannot detect. The tests also show\r\n",
      "\tthat each algorithm can detect, among other types, a certain type of\r\n",
      "\tfeature that is unique to it. Hence, most of the algorithms discussed\r\n",
      "\tin this paper would have to be combined to obtain complete coverage\r",
      "\r\n"
     ]
    }
   ],
   "source": [
    "!cat ../data/Inspec/docsutf8/1100.txt"
   ]
  },
  {
   "cell_type": "markdown",
   "metadata": {},
   "source": [
    "# Read Sample Keys"
   ]
  },
  {
   "cell_type": "code",
   "execution_count": 15,
   "metadata": {},
   "outputs": [
    {
     "name": "stdout",
     "output_type": "stream",
     "text": [
      "feature recognition algorithms\r\n",
      "general-purpose feature detection techniques\r\n",
      "\tNational Design Repository\r\n",
      "face sets\r\n",
      "convex hull\r\n",
      "concavity\r",
      "\r\n",
      "feature extraction\r\n",
      "mechanical engineering\r",
      "\r\n"
     ]
    }
   ],
   "source": [
    "!cat ../data/Inspec/keys/1100.key"
   ]
  }
 ],
 "metadata": {
  "kernelspec": {
   "display_name": "Python 3",
   "language": "python",
   "name": "python3"
  },
  "language_info": {
   "codemirror_mode": {
    "name": "ipython",
    "version": 3
   },
   "file_extension": ".py",
   "mimetype": "text/x-python",
   "name": "python",
   "nbconvert_exporter": "python",
   "pygments_lexer": "ipython3",
   "version": "3.7.6"
  },
  "toc": {
   "base_numbering": 1,
   "nav_menu": {},
   "number_sections": true,
   "sideBar": true,
   "skip_h1_title": false,
   "title_cell": "Table of Contents",
   "title_sidebar": "Contents",
   "toc_cell": false,
   "toc_position": {},
   "toc_section_display": true,
   "toc_window_display": false
  },
  "varInspector": {
   "cols": {
    "lenName": 16,
    "lenType": 16,
    "lenVar": 40
   },
   "kernels_config": {
    "python": {
     "delete_cmd_postfix": "",
     "delete_cmd_prefix": "del ",
     "library": "var_list.py",
     "varRefreshCmd": "print(var_dic_list())"
    },
    "r": {
     "delete_cmd_postfix": ") ",
     "delete_cmd_prefix": "rm(",
     "library": "var_list.r",
     "varRefreshCmd": "cat(var_dic_list()) "
    }
   },
   "types_to_exclude": [
    "module",
    "function",
    "builtin_function_or_method",
    "instance",
    "_Feature"
   ],
   "window_display": false
  }
 },
 "nbformat": 4,
 "nbformat_minor": 2
}
